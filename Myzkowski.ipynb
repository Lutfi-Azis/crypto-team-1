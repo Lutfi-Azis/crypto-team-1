{
 "cells": [
  {
   "cell_type": "markdown",
   "metadata": {},
   "source": [
    "# Enkripsi"
   ]
  },
  {
   "cell_type": "markdown",
   "metadata": {},
   "source": [
    "## Mempersiapkan Kunci"
   ]
  },
  {
   "cell_type": "code",
   "execution_count": 52,
   "metadata": {},
   "outputs": [],
   "source": [
    "plain = \"TENTUKAN PRIORITAS ANDA SEBAB KITA TIDAK DAPAT MENGERJAKAN SEMUANYA X.\"\n",
    "key = \"BOROBUDUR\""
   ]
  },
  {
   "cell_type": "markdown",
   "metadata": {},
   "source": [
    "Huruf-huruf unik dari key diurutkan berdasarkan abjad dan disimpan pada sebuah variabel. Ini akan dipakai nanti untuk mencari tahu urutan sebuah huruf tertentu."
   ]
  },
  {
   "cell_type": "code",
   "execution_count": 53,
   "metadata": {},
   "outputs": [
    {
     "name": "stdout",
     "output_type": "stream",
     "text": [
      "['B', 'D', 'O', 'R', 'U']\n"
     ]
    }
   ],
   "source": [
    "key_letters_sorted_unique = sorted(set(key))\n",
    "print(key_letters_sorted_unique)"
   ]
  },
  {
   "cell_type": "markdown",
   "metadata": {},
   "source": [
    "Tiap huruf digandengkan dengan urutannya secara abjad dalam kunci. Tiap huruf yang sama memiliki urutan yang sama."
   ]
  },
  {
   "cell_type": "code",
   "execution_count": 54,
   "metadata": {},
   "outputs": [
    {
     "data": {
      "text/html": [
       "<style type=\"text/css\">\n",
       "</style>\n",
       "<table id=\"T_d908d\">\n",
       "  <thead>\n",
       "    <tr>\n",
       "      <th id=\"T_d908d_level0_col0\" class=\"col_heading level0 col0\" >B</th>\n",
       "      <th id=\"T_d908d_level0_col1\" class=\"col_heading level0 col1\" >O</th>\n",
       "      <th id=\"T_d908d_level0_col2\" class=\"col_heading level0 col2\" >R</th>\n",
       "      <th id=\"T_d908d_level0_col3\" class=\"col_heading level0 col3\" >O</th>\n",
       "      <th id=\"T_d908d_level0_col4\" class=\"col_heading level0 col4\" >B</th>\n",
       "      <th id=\"T_d908d_level0_col5\" class=\"col_heading level0 col5\" >U</th>\n",
       "      <th id=\"T_d908d_level0_col6\" class=\"col_heading level0 col6\" >D</th>\n",
       "      <th id=\"T_d908d_level0_col7\" class=\"col_heading level0 col7\" >U</th>\n",
       "      <th id=\"T_d908d_level0_col8\" class=\"col_heading level0 col8\" >R</th>\n",
       "    </tr>\n",
       "  </thead>\n",
       "  <tbody>\n",
       "    <tr>\n",
       "      <td id=\"T_d908d_row0_col0\" class=\"data row0 col0\" >1</td>\n",
       "      <td id=\"T_d908d_row0_col1\" class=\"data row0 col1\" >3</td>\n",
       "      <td id=\"T_d908d_row0_col2\" class=\"data row0 col2\" >4</td>\n",
       "      <td id=\"T_d908d_row0_col3\" class=\"data row0 col3\" >3</td>\n",
       "      <td id=\"T_d908d_row0_col4\" class=\"data row0 col4\" >1</td>\n",
       "      <td id=\"T_d908d_row0_col5\" class=\"data row0 col5\" >5</td>\n",
       "      <td id=\"T_d908d_row0_col6\" class=\"data row0 col6\" >2</td>\n",
       "      <td id=\"T_d908d_row0_col7\" class=\"data row0 col7\" >5</td>\n",
       "      <td id=\"T_d908d_row0_col8\" class=\"data row0 col8\" >4</td>\n",
       "    </tr>\n",
       "  </tbody>\n",
       "</table>\n"
      ],
      "text/plain": [
       "<pandas.io.formats.style.Styler at 0x1f9e925ec10>"
      ]
     },
     "metadata": {},
     "output_type": "display_data"
    }
   ],
   "source": [
    "import pandas as pd\n",
    "key_letter_index_pairs = [(letter, key_letters_sorted_unique.index(letter) + 1) for letter in key]\n",
    "\n",
    "df_klip = pd.DataFrame([i for _, i in key_letter_index_pairs])\n",
    "df_klip = df_klip.transpose()\n",
    "df_klip.columns = list(key)\n",
    "\n",
    "display(df_klip.style.hide(axis='index'))"
   ]
  },
  {
   "cell_type": "markdown",
   "metadata": {},
   "source": [
    "## Mengolah Plain Text"
   ]
  },
  {
   "cell_type": "markdown",
   "metadata": {},
   "source": [
    "Karakter-karakter non-alphanumeric dan spasi perlu dihilangkan dari plain text."
   ]
  },
  {
   "cell_type": "code",
   "execution_count": 55,
   "metadata": {},
   "outputs": [
    {
     "name": "stdout",
     "output_type": "stream",
     "text": [
      "TENTUKANPRIORITASANDASEBABKITATIDAKDAPATMENGERJAKANSEMUANYAX\n"
     ]
    }
   ],
   "source": [
    "plain = \"\".join([c for c in plain if c.isalnum()])\n",
    "print(plain)"
   ]
  },
  {
   "cell_type": "markdown",
   "metadata": {},
   "source": [
    "Plain text dimasukkan ke sebuah tabel dengan lebar $N$ dan tinggi $M$. Dengan \n",
    "$$N = \\text{jumlah huruf pada key}$$\n",
    "dan\n",
    "$$M = \\left \\lceil \\frac {\\text{jumlah huruf pada plain text}} {N} \\right \\rceil$$"
   ]
  },
  {
   "cell_type": "code",
   "execution_count": 56,
   "metadata": {},
   "outputs": [
    {
     "data": {
      "text/html": [
       "<style type=\"text/css\">\n",
       "</style>\n",
       "<table id=\"T_e57a8\">\n",
       "  <thead>\n",
       "    <tr>\n",
       "      <th id=\"T_e57a8_level0_col0\" class=\"col_heading level0 col0\" >B</th>\n",
       "      <th id=\"T_e57a8_level0_col1\" class=\"col_heading level0 col1\" >O</th>\n",
       "      <th id=\"T_e57a8_level0_col2\" class=\"col_heading level0 col2\" >R</th>\n",
       "      <th id=\"T_e57a8_level0_col3\" class=\"col_heading level0 col3\" >O</th>\n",
       "      <th id=\"T_e57a8_level0_col4\" class=\"col_heading level0 col4\" >B</th>\n",
       "      <th id=\"T_e57a8_level0_col5\" class=\"col_heading level0 col5\" >U</th>\n",
       "      <th id=\"T_e57a8_level0_col6\" class=\"col_heading level0 col6\" >D</th>\n",
       "      <th id=\"T_e57a8_level0_col7\" class=\"col_heading level0 col7\" >U</th>\n",
       "      <th id=\"T_e57a8_level0_col8\" class=\"col_heading level0 col8\" >R</th>\n",
       "    </tr>\n",
       "  </thead>\n",
       "  <tbody>\n",
       "    <tr>\n",
       "      <td id=\"T_e57a8_row0_col0\" class=\"data row0 col0\" >1</td>\n",
       "      <td id=\"T_e57a8_row0_col1\" class=\"data row0 col1\" >3</td>\n",
       "      <td id=\"T_e57a8_row0_col2\" class=\"data row0 col2\" >4</td>\n",
       "      <td id=\"T_e57a8_row0_col3\" class=\"data row0 col3\" >3</td>\n",
       "      <td id=\"T_e57a8_row0_col4\" class=\"data row0 col4\" >1</td>\n",
       "      <td id=\"T_e57a8_row0_col5\" class=\"data row0 col5\" >5</td>\n",
       "      <td id=\"T_e57a8_row0_col6\" class=\"data row0 col6\" >2</td>\n",
       "      <td id=\"T_e57a8_row0_col7\" class=\"data row0 col7\" >5</td>\n",
       "      <td id=\"T_e57a8_row0_col8\" class=\"data row0 col8\" >4</td>\n",
       "    </tr>\n",
       "  </tbody>\n",
       "</table>\n"
      ],
      "text/plain": [
       "<pandas.io.formats.style.Styler at 0x1f9e86fe460>"
      ]
     },
     "metadata": {},
     "output_type": "display_data"
    },
    {
     "data": {
      "text/html": [
       "<style type=\"text/css\">\n",
       "</style>\n",
       "<table id=\"T_3cdff\">\n",
       "  <thead>\n",
       "    <tr>\n",
       "      <th id=\"T_3cdff_level0_col0\" class=\"col_heading level0 col0\" >1</th>\n",
       "      <th id=\"T_3cdff_level0_col1\" class=\"col_heading level0 col1\" >3</th>\n",
       "      <th id=\"T_3cdff_level0_col2\" class=\"col_heading level0 col2\" >4</th>\n",
       "      <th id=\"T_3cdff_level0_col3\" class=\"col_heading level0 col3\" >3</th>\n",
       "      <th id=\"T_3cdff_level0_col4\" class=\"col_heading level0 col4\" >1</th>\n",
       "      <th id=\"T_3cdff_level0_col5\" class=\"col_heading level0 col5\" >5</th>\n",
       "      <th id=\"T_3cdff_level0_col6\" class=\"col_heading level0 col6\" >2</th>\n",
       "      <th id=\"T_3cdff_level0_col7\" class=\"col_heading level0 col7\" >5</th>\n",
       "      <th id=\"T_3cdff_level0_col8\" class=\"col_heading level0 col8\" >4</th>\n",
       "    </tr>\n",
       "  </thead>\n",
       "  <tbody>\n",
       "    <tr>\n",
       "      <td id=\"T_3cdff_row0_col0\" class=\"data row0 col0\" >T</td>\n",
       "      <td id=\"T_3cdff_row0_col1\" class=\"data row0 col1\" >E</td>\n",
       "      <td id=\"T_3cdff_row0_col2\" class=\"data row0 col2\" >N</td>\n",
       "      <td id=\"T_3cdff_row0_col3\" class=\"data row0 col3\" >T</td>\n",
       "      <td id=\"T_3cdff_row0_col4\" class=\"data row0 col4\" >U</td>\n",
       "      <td id=\"T_3cdff_row0_col5\" class=\"data row0 col5\" >K</td>\n",
       "      <td id=\"T_3cdff_row0_col6\" class=\"data row0 col6\" >A</td>\n",
       "      <td id=\"T_3cdff_row0_col7\" class=\"data row0 col7\" >N</td>\n",
       "      <td id=\"T_3cdff_row0_col8\" class=\"data row0 col8\" >P</td>\n",
       "    </tr>\n",
       "    <tr>\n",
       "      <td id=\"T_3cdff_row1_col0\" class=\"data row1 col0\" >R</td>\n",
       "      <td id=\"T_3cdff_row1_col1\" class=\"data row1 col1\" >I</td>\n",
       "      <td id=\"T_3cdff_row1_col2\" class=\"data row1 col2\" >O</td>\n",
       "      <td id=\"T_3cdff_row1_col3\" class=\"data row1 col3\" >R</td>\n",
       "      <td id=\"T_3cdff_row1_col4\" class=\"data row1 col4\" >I</td>\n",
       "      <td id=\"T_3cdff_row1_col5\" class=\"data row1 col5\" >T</td>\n",
       "      <td id=\"T_3cdff_row1_col6\" class=\"data row1 col6\" >A</td>\n",
       "      <td id=\"T_3cdff_row1_col7\" class=\"data row1 col7\" >S</td>\n",
       "      <td id=\"T_3cdff_row1_col8\" class=\"data row1 col8\" >A</td>\n",
       "    </tr>\n",
       "    <tr>\n",
       "      <td id=\"T_3cdff_row2_col0\" class=\"data row2 col0\" >N</td>\n",
       "      <td id=\"T_3cdff_row2_col1\" class=\"data row2 col1\" >D</td>\n",
       "      <td id=\"T_3cdff_row2_col2\" class=\"data row2 col2\" >A</td>\n",
       "      <td id=\"T_3cdff_row2_col3\" class=\"data row2 col3\" >S</td>\n",
       "      <td id=\"T_3cdff_row2_col4\" class=\"data row2 col4\" >E</td>\n",
       "      <td id=\"T_3cdff_row2_col5\" class=\"data row2 col5\" >B</td>\n",
       "      <td id=\"T_3cdff_row2_col6\" class=\"data row2 col6\" >A</td>\n",
       "      <td id=\"T_3cdff_row2_col7\" class=\"data row2 col7\" >B</td>\n",
       "      <td id=\"T_3cdff_row2_col8\" class=\"data row2 col8\" >K</td>\n",
       "    </tr>\n",
       "    <tr>\n",
       "      <td id=\"T_3cdff_row3_col0\" class=\"data row3 col0\" >I</td>\n",
       "      <td id=\"T_3cdff_row3_col1\" class=\"data row3 col1\" >T</td>\n",
       "      <td id=\"T_3cdff_row3_col2\" class=\"data row3 col2\" >A</td>\n",
       "      <td id=\"T_3cdff_row3_col3\" class=\"data row3 col3\" >T</td>\n",
       "      <td id=\"T_3cdff_row3_col4\" class=\"data row3 col4\" >I</td>\n",
       "      <td id=\"T_3cdff_row3_col5\" class=\"data row3 col5\" >D</td>\n",
       "      <td id=\"T_3cdff_row3_col6\" class=\"data row3 col6\" >A</td>\n",
       "      <td id=\"T_3cdff_row3_col7\" class=\"data row3 col7\" >K</td>\n",
       "      <td id=\"T_3cdff_row3_col8\" class=\"data row3 col8\" >D</td>\n",
       "    </tr>\n",
       "    <tr>\n",
       "      <td id=\"T_3cdff_row4_col0\" class=\"data row4 col0\" >A</td>\n",
       "      <td id=\"T_3cdff_row4_col1\" class=\"data row4 col1\" >P</td>\n",
       "      <td id=\"T_3cdff_row4_col2\" class=\"data row4 col2\" >A</td>\n",
       "      <td id=\"T_3cdff_row4_col3\" class=\"data row4 col3\" >T</td>\n",
       "      <td id=\"T_3cdff_row4_col4\" class=\"data row4 col4\" >M</td>\n",
       "      <td id=\"T_3cdff_row4_col5\" class=\"data row4 col5\" >E</td>\n",
       "      <td id=\"T_3cdff_row4_col6\" class=\"data row4 col6\" >N</td>\n",
       "      <td id=\"T_3cdff_row4_col7\" class=\"data row4 col7\" >G</td>\n",
       "      <td id=\"T_3cdff_row4_col8\" class=\"data row4 col8\" >E</td>\n",
       "    </tr>\n",
       "    <tr>\n",
       "      <td id=\"T_3cdff_row5_col0\" class=\"data row5 col0\" >R</td>\n",
       "      <td id=\"T_3cdff_row5_col1\" class=\"data row5 col1\" >J</td>\n",
       "      <td id=\"T_3cdff_row5_col2\" class=\"data row5 col2\" >A</td>\n",
       "      <td id=\"T_3cdff_row5_col3\" class=\"data row5 col3\" >K</td>\n",
       "      <td id=\"T_3cdff_row5_col4\" class=\"data row5 col4\" >A</td>\n",
       "      <td id=\"T_3cdff_row5_col5\" class=\"data row5 col5\" >N</td>\n",
       "      <td id=\"T_3cdff_row5_col6\" class=\"data row5 col6\" >S</td>\n",
       "      <td id=\"T_3cdff_row5_col7\" class=\"data row5 col7\" >E</td>\n",
       "      <td id=\"T_3cdff_row5_col8\" class=\"data row5 col8\" >M</td>\n",
       "    </tr>\n",
       "    <tr>\n",
       "      <td id=\"T_3cdff_row6_col0\" class=\"data row6 col0\" >U</td>\n",
       "      <td id=\"T_3cdff_row6_col1\" class=\"data row6 col1\" >A</td>\n",
       "      <td id=\"T_3cdff_row6_col2\" class=\"data row6 col2\" >N</td>\n",
       "      <td id=\"T_3cdff_row6_col3\" class=\"data row6 col3\" >Y</td>\n",
       "      <td id=\"T_3cdff_row6_col4\" class=\"data row6 col4\" >A</td>\n",
       "      <td id=\"T_3cdff_row6_col5\" class=\"data row6 col5\" >X</td>\n",
       "      <td id=\"T_3cdff_row6_col6\" class=\"data row6 col6\" ></td>\n",
       "      <td id=\"T_3cdff_row6_col7\" class=\"data row6 col7\" ></td>\n",
       "      <td id=\"T_3cdff_row6_col8\" class=\"data row6 col8\" ></td>\n",
       "    </tr>\n",
       "  </tbody>\n",
       "</table>\n"
      ],
      "text/plain": [
       "<pandas.io.formats.style.Styler at 0x1f9e87ba850>"
      ]
     },
     "metadata": {},
     "output_type": "display_data"
    }
   ],
   "source": [
    "rows: list[list[str]] = []\n",
    "l = 0\n",
    "width = len(key)\n",
    "\n",
    "while (l < len(plain)):\n",
    "    row: list[str] = []\n",
    "    for c in plain[l:l+width]:\n",
    "        row.append(c)\n",
    "    rows.append(row)\n",
    "    l += width\n",
    "\n",
    "df_rows = pd.DataFrame(rows, columns=[i for _, i in key_letter_index_pairs])\n",
    "\n",
    "display(df_klip.style.hide(axis='index'))\n",
    "display(df_rows.replace({None: \"\"}).style.hide(axis='index'))"
   ]
  },
  {
   "cell_type": "markdown",
   "metadata": {},
   "source": [
    "## Membuat Cipher Text"
   ]
  },
  {
   "cell_type": "code",
   "execution_count": 57,
   "metadata": {},
   "outputs": [
    {
     "name": "stdout",
     "output_type": "stream",
     "text": [
      "TURIN EIIAM RAUAA AAANS ETIRD STTPT JKAYN POAAK ADAEA MNKNT SBBDK EGNEX\n"
     ]
    }
   ],
   "source": [
    "from itertools import zip_longest\n",
    "from textwrap import wrap\n",
    "\n",
    "cols = list(zip_longest(*rows, fillvalue=\"\"))\n",
    "cipher = \"\"\n",
    "\n",
    "for i in range(len(cols)):\n",
    "    cols_filtered = [col for j, col in enumerate(cols) if key_letter_index_pairs[j][1] == i + 1]\n",
    "\n",
    "    for i_y in range(len(rows)):\n",
    "        for i_x in range(len(cols_filtered)):\n",
    "            char = cols_filtered[i_x][i_y]\n",
    "            if char is not None:\n",
    "                cipher += char\n",
    "\n",
    "cipher = \" \".join(wrap(cipher, 5))\n",
    "print(cipher)"
   ]
  },
  {
   "cell_type": "markdown",
   "metadata": {},
   "source": [
    "# Dekripsi"
   ]
  },
  {
   "cell_type": "code",
   "execution_count": 58,
   "metadata": {},
   "outputs": [
    {
     "name": "stdout",
     "output_type": "stream",
     "text": [
      "key: BOROBUDUR\n",
      "cipher: TURIN EIIAM RAUAA AAANS ETIRD STTPT JKAYN POAAK ADAEA MNKNT SBBDK EGNEX\n"
     ]
    }
   ],
   "source": [
    "# Ubah variabel-variabel di bawah jika ingin mencoba dengan plaintext dan kunci yang berbeda\n",
    "key = key\n",
    "cipher = cipher\n",
    "plain = \"\"\n",
    "\n",
    "print(f\"key: {key}\")\n",
    "print(f\"cipher: {cipher}\")"
   ]
  },
  {
   "cell_type": "markdown",
   "metadata": {},
   "source": [
    "## Mempersiapkan Kunci"
   ]
  },
  {
   "cell_type": "markdown",
   "metadata": {},
   "source": [
    "Huruf-huruf unik dari kunci diurutkan berdasarkan abjad dan disimpan pada sebuah variabel."
   ]
  },
  {
   "cell_type": "code",
   "execution_count": 59,
   "metadata": {},
   "outputs": [
    {
     "name": "stdout",
     "output_type": "stream",
     "text": [
      "['B', 'D', 'O', 'R', 'U']\n"
     ]
    }
   ],
   "source": [
    "key_letters_sorted_unique = sorted(set(key))\n",
    "print(key_letters_sorted_unique)"
   ]
  },
  {
   "cell_type": "markdown",
   "metadata": {},
   "source": [
    "Tiap huruf digandengkan dengan urutannya secara abjad dalam kunci. Tiap huruf yang sama memiliki urutan yang sama."
   ]
  },
  {
   "cell_type": "code",
   "execution_count": 60,
   "metadata": {},
   "outputs": [
    {
     "data": {
      "text/html": [
       "<style type=\"text/css\">\n",
       "</style>\n",
       "<table id=\"T_ddcb2\">\n",
       "  <thead>\n",
       "    <tr>\n",
       "      <th id=\"T_ddcb2_level0_col0\" class=\"col_heading level0 col0\" >B</th>\n",
       "      <th id=\"T_ddcb2_level0_col1\" class=\"col_heading level0 col1\" >O</th>\n",
       "      <th id=\"T_ddcb2_level0_col2\" class=\"col_heading level0 col2\" >R</th>\n",
       "      <th id=\"T_ddcb2_level0_col3\" class=\"col_heading level0 col3\" >O</th>\n",
       "      <th id=\"T_ddcb2_level0_col4\" class=\"col_heading level0 col4\" >B</th>\n",
       "      <th id=\"T_ddcb2_level0_col5\" class=\"col_heading level0 col5\" >U</th>\n",
       "      <th id=\"T_ddcb2_level0_col6\" class=\"col_heading level0 col6\" >D</th>\n",
       "      <th id=\"T_ddcb2_level0_col7\" class=\"col_heading level0 col7\" >U</th>\n",
       "      <th id=\"T_ddcb2_level0_col8\" class=\"col_heading level0 col8\" >R</th>\n",
       "    </tr>\n",
       "  </thead>\n",
       "  <tbody>\n",
       "    <tr>\n",
       "      <td id=\"T_ddcb2_row0_col0\" class=\"data row0 col0\" >1</td>\n",
       "      <td id=\"T_ddcb2_row0_col1\" class=\"data row0 col1\" >3</td>\n",
       "      <td id=\"T_ddcb2_row0_col2\" class=\"data row0 col2\" >4</td>\n",
       "      <td id=\"T_ddcb2_row0_col3\" class=\"data row0 col3\" >3</td>\n",
       "      <td id=\"T_ddcb2_row0_col4\" class=\"data row0 col4\" >1</td>\n",
       "      <td id=\"T_ddcb2_row0_col5\" class=\"data row0 col5\" >5</td>\n",
       "      <td id=\"T_ddcb2_row0_col6\" class=\"data row0 col6\" >2</td>\n",
       "      <td id=\"T_ddcb2_row0_col7\" class=\"data row0 col7\" >5</td>\n",
       "      <td id=\"T_ddcb2_row0_col8\" class=\"data row0 col8\" >4</td>\n",
       "    </tr>\n",
       "  </tbody>\n",
       "</table>\n"
      ],
      "text/plain": [
       "<pandas.io.formats.style.Styler at 0x1f9e9276280>"
      ]
     },
     "metadata": {},
     "output_type": "display_data"
    }
   ],
   "source": [
    "import pandas as pd\n",
    "key_letter_index_pairs = [(letter, key_letters_sorted_unique.index(letter) + 1) for letter in key]\n",
    "\n",
    "df_klip = pd.DataFrame([i for _, i in key_letter_index_pairs])\n",
    "df_klip = df_klip.transpose()\n",
    "df_klip.columns = list(key)\n",
    "\n",
    "display(df_klip.style.hide(axis='index'))"
   ]
  },
  {
   "cell_type": "markdown",
   "metadata": {},
   "source": [
    "## Mengolah Cipher Text"
   ]
  },
  {
   "cell_type": "markdown",
   "metadata": {},
   "source": [
    "Karakter-karakter non-alphanumeric dan spasi perlu dihilangkan dari plain text."
   ]
  },
  {
   "cell_type": "code",
   "execution_count": 61,
   "metadata": {},
   "outputs": [
    {
     "name": "stdout",
     "output_type": "stream",
     "text": [
      "TURINEIIAMRAUAAAAANSETIRDSTTPTJKAYNPOAAKADAEAMNKNTSBBDKEGNEX\n"
     ]
    }
   ],
   "source": [
    "cipher = \"\".join([c for c in cipher if c.isalnum()])\n",
    "print(cipher)"
   ]
  },
  {
   "cell_type": "markdown",
   "metadata": {},
   "source": [
    "## Membuat Plain Text"
   ]
  },
  {
   "cell_type": "markdown",
   "metadata": {},
   "source": [
    "### Menyusun Tabel"
   ]
  },
  {
   "cell_type": "markdown",
   "metadata": {},
   "source": [
    "Cipher text dimasukkan ke sebuah tabel dengan lebar $N$ dan tinggi $M$. Dengan \n",
    "$$N = \\text{jumlah huruf pada key}$$\n",
    "dan\n",
    "$$M = \\left \\lceil \\frac {\\text{jumlah huruf pada cipher text}} {N} \\right \\rceil$$"
   ]
  },
  {
   "cell_type": "code",
   "execution_count": 62,
   "metadata": {},
   "outputs": [
    {
     "data": {
      "text/html": [
       "<style type=\"text/css\">\n",
       "</style>\n",
       "<table id=\"T_c025f\">\n",
       "  <thead>\n",
       "    <tr>\n",
       "      <th id=\"T_c025f_level0_col0\" class=\"col_heading level0 col0\" >B</th>\n",
       "      <th id=\"T_c025f_level0_col1\" class=\"col_heading level0 col1\" >O</th>\n",
       "      <th id=\"T_c025f_level0_col2\" class=\"col_heading level0 col2\" >R</th>\n",
       "      <th id=\"T_c025f_level0_col3\" class=\"col_heading level0 col3\" >O</th>\n",
       "      <th id=\"T_c025f_level0_col4\" class=\"col_heading level0 col4\" >B</th>\n",
       "      <th id=\"T_c025f_level0_col5\" class=\"col_heading level0 col5\" >U</th>\n",
       "      <th id=\"T_c025f_level0_col6\" class=\"col_heading level0 col6\" >D</th>\n",
       "      <th id=\"T_c025f_level0_col7\" class=\"col_heading level0 col7\" >U</th>\n",
       "      <th id=\"T_c025f_level0_col8\" class=\"col_heading level0 col8\" >R</th>\n",
       "    </tr>\n",
       "  </thead>\n",
       "  <tbody>\n",
       "    <tr>\n",
       "      <td id=\"T_c025f_row0_col0\" class=\"data row0 col0\" >T</td>\n",
       "      <td id=\"T_c025f_row0_col1\" class=\"data row0 col1\" >E</td>\n",
       "      <td id=\"T_c025f_row0_col2\" class=\"data row0 col2\" >N</td>\n",
       "      <td id=\"T_c025f_row0_col3\" class=\"data row0 col3\" >T</td>\n",
       "      <td id=\"T_c025f_row0_col4\" class=\"data row0 col4\" >U</td>\n",
       "      <td id=\"T_c025f_row0_col5\" class=\"data row0 col5\" >K</td>\n",
       "      <td id=\"T_c025f_row0_col6\" class=\"data row0 col6\" >A</td>\n",
       "      <td id=\"T_c025f_row0_col7\" class=\"data row0 col7\" >N</td>\n",
       "      <td id=\"T_c025f_row0_col8\" class=\"data row0 col8\" >P</td>\n",
       "    </tr>\n",
       "    <tr>\n",
       "      <td id=\"T_c025f_row1_col0\" class=\"data row1 col0\" >R</td>\n",
       "      <td id=\"T_c025f_row1_col1\" class=\"data row1 col1\" >I</td>\n",
       "      <td id=\"T_c025f_row1_col2\" class=\"data row1 col2\" >O</td>\n",
       "      <td id=\"T_c025f_row1_col3\" class=\"data row1 col3\" >R</td>\n",
       "      <td id=\"T_c025f_row1_col4\" class=\"data row1 col4\" >I</td>\n",
       "      <td id=\"T_c025f_row1_col5\" class=\"data row1 col5\" >T</td>\n",
       "      <td id=\"T_c025f_row1_col6\" class=\"data row1 col6\" >A</td>\n",
       "      <td id=\"T_c025f_row1_col7\" class=\"data row1 col7\" >S</td>\n",
       "      <td id=\"T_c025f_row1_col8\" class=\"data row1 col8\" >A</td>\n",
       "    </tr>\n",
       "    <tr>\n",
       "      <td id=\"T_c025f_row2_col0\" class=\"data row2 col0\" >N</td>\n",
       "      <td id=\"T_c025f_row2_col1\" class=\"data row2 col1\" >D</td>\n",
       "      <td id=\"T_c025f_row2_col2\" class=\"data row2 col2\" >A</td>\n",
       "      <td id=\"T_c025f_row2_col3\" class=\"data row2 col3\" >S</td>\n",
       "      <td id=\"T_c025f_row2_col4\" class=\"data row2 col4\" >E</td>\n",
       "      <td id=\"T_c025f_row2_col5\" class=\"data row2 col5\" >B</td>\n",
       "      <td id=\"T_c025f_row2_col6\" class=\"data row2 col6\" >A</td>\n",
       "      <td id=\"T_c025f_row2_col7\" class=\"data row2 col7\" >B</td>\n",
       "      <td id=\"T_c025f_row2_col8\" class=\"data row2 col8\" >K</td>\n",
       "    </tr>\n",
       "    <tr>\n",
       "      <td id=\"T_c025f_row3_col0\" class=\"data row3 col0\" >I</td>\n",
       "      <td id=\"T_c025f_row3_col1\" class=\"data row3 col1\" >T</td>\n",
       "      <td id=\"T_c025f_row3_col2\" class=\"data row3 col2\" >A</td>\n",
       "      <td id=\"T_c025f_row3_col3\" class=\"data row3 col3\" >T</td>\n",
       "      <td id=\"T_c025f_row3_col4\" class=\"data row3 col4\" >I</td>\n",
       "      <td id=\"T_c025f_row3_col5\" class=\"data row3 col5\" >D</td>\n",
       "      <td id=\"T_c025f_row3_col6\" class=\"data row3 col6\" >A</td>\n",
       "      <td id=\"T_c025f_row3_col7\" class=\"data row3 col7\" >K</td>\n",
       "      <td id=\"T_c025f_row3_col8\" class=\"data row3 col8\" >D</td>\n",
       "    </tr>\n",
       "    <tr>\n",
       "      <td id=\"T_c025f_row4_col0\" class=\"data row4 col0\" >A</td>\n",
       "      <td id=\"T_c025f_row4_col1\" class=\"data row4 col1\" >P</td>\n",
       "      <td id=\"T_c025f_row4_col2\" class=\"data row4 col2\" >A</td>\n",
       "      <td id=\"T_c025f_row4_col3\" class=\"data row4 col3\" >T</td>\n",
       "      <td id=\"T_c025f_row4_col4\" class=\"data row4 col4\" >M</td>\n",
       "      <td id=\"T_c025f_row4_col5\" class=\"data row4 col5\" >E</td>\n",
       "      <td id=\"T_c025f_row4_col6\" class=\"data row4 col6\" >N</td>\n",
       "      <td id=\"T_c025f_row4_col7\" class=\"data row4 col7\" >G</td>\n",
       "      <td id=\"T_c025f_row4_col8\" class=\"data row4 col8\" >E</td>\n",
       "    </tr>\n",
       "    <tr>\n",
       "      <td id=\"T_c025f_row5_col0\" class=\"data row5 col0\" >R</td>\n",
       "      <td id=\"T_c025f_row5_col1\" class=\"data row5 col1\" >J</td>\n",
       "      <td id=\"T_c025f_row5_col2\" class=\"data row5 col2\" >A</td>\n",
       "      <td id=\"T_c025f_row5_col3\" class=\"data row5 col3\" >K</td>\n",
       "      <td id=\"T_c025f_row5_col4\" class=\"data row5 col4\" >A</td>\n",
       "      <td id=\"T_c025f_row5_col5\" class=\"data row5 col5\" >N</td>\n",
       "      <td id=\"T_c025f_row5_col6\" class=\"data row5 col6\" >S</td>\n",
       "      <td id=\"T_c025f_row5_col7\" class=\"data row5 col7\" >E</td>\n",
       "      <td id=\"T_c025f_row5_col8\" class=\"data row5 col8\" >M</td>\n",
       "    </tr>\n",
       "    <tr>\n",
       "      <td id=\"T_c025f_row6_col0\" class=\"data row6 col0\" >U</td>\n",
       "      <td id=\"T_c025f_row6_col1\" class=\"data row6 col1\" >A</td>\n",
       "      <td id=\"T_c025f_row6_col2\" class=\"data row6 col2\" >N</td>\n",
       "      <td id=\"T_c025f_row6_col3\" class=\"data row6 col3\" >Y</td>\n",
       "      <td id=\"T_c025f_row6_col4\" class=\"data row6 col4\" >A</td>\n",
       "      <td id=\"T_c025f_row6_col5\" class=\"data row6 col5\" >X</td>\n",
       "      <td id=\"T_c025f_row6_col6\" class=\"data row6 col6\" ></td>\n",
       "      <td id=\"T_c025f_row6_col7\" class=\"data row6 col7\" ></td>\n",
       "      <td id=\"T_c025f_row6_col8\" class=\"data row6 col8\" ></td>\n",
       "    </tr>\n",
       "  </tbody>\n",
       "</table>\n"
      ],
      "text/plain": [
       "<pandas.io.formats.style.Styler at 0x1f9e87badc0>"
      ]
     },
     "metadata": {},
     "output_type": "display_data"
    }
   ],
   "source": [
    "import math\n",
    "\n",
    "n_empty_cells = len(key) - (len(cipher) % len(key))\n",
    "max_col_len = math.ceil(len(cipher) / len(key))\n",
    "\n",
    "cols = [[\"\"] * max_col_len for _ in range(len(key))]\n",
    "\n",
    "i_cipher = 0\n",
    "\n",
    "for i in range(len(key)):\n",
    "    cols_filtered = [col for j, col in enumerate(cols) if key_letter_index_pairs[j][1] == i + 1]\n",
    "    indexes_cols_filtered = [j for j, col in enumerate(cols) if key_letter_index_pairs[j][1] == i + 1]\n",
    "\n",
    "    for i_y in range(max_col_len):\n",
    "        for i_x in range(len(cols_filtered)):\n",
    "            if (i_y * len(key) + indexes_cols_filtered[i_x] + 1) > len(cipher):\n",
    "                continue\n",
    "            cols_filtered[i_x][i_y] = cipher[i_cipher]\n",
    "            i_cipher += 1\n",
    "\n",
    "rows = list(zip_longest(*cols, fillvalue=\"\"))\n",
    "\n",
    "df_rows = pd.DataFrame(rows)\n",
    "df_rows.columns = list(key)\n",
    "display(df_rows.style.hide(axis='index'))"
   ]
  },
  {
   "cell_type": "code",
   "execution_count": 63,
   "metadata": {},
   "outputs": [
    {
     "name": "stdout",
     "output_type": "stream",
     "text": [
      "Plain text: TENTUKANPRIORITASANDASEBABKITATIDAKDAPATMENGERJAKANSEMUANYAX\n"
     ]
    }
   ],
   "source": [
    "plain = \"\"\n",
    "for row in rows:\n",
    "    plain += \"\".join(row)\n",
    "\n",
    "print(f\"Plain text: {plain}\")"
   ]
  }
 ],
 "metadata": {
  "kernelspec": {
   "display_name": "base",
   "language": "python",
   "name": "python3"
  },
  "language_info": {
   "codemirror_mode": {
    "name": "ipython",
    "version": 3
   },
   "file_extension": ".py",
   "mimetype": "text/x-python",
   "name": "python",
   "nbconvert_exporter": "python",
   "pygments_lexer": "ipython3",
   "version": "3.9.12"
  },
  "orig_nbformat": 4
 },
 "nbformat": 4,
 "nbformat_minor": 2
}
