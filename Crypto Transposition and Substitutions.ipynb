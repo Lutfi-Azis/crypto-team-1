{
 "cells": [
  {
   "cell_type": "code",
   "execution_count": 187,
   "metadata": {},
   "outputs": [],
   "source": [
    "from textwrap import wrap\n",
    "\n",
    "\n",
    "def format_cipher(cipher: str):\n",
    "    \"\"\"Merapikan cipher agar terkelompok 4 huruf\"\"\"\n",
    "    return \" \".join(wrap(cipher, 4))"
   ]
  },
  {
   "cell_type": "code",
   "execution_count": 188,
   "metadata": {},
   "outputs": [],
   "source": [
    "def transpose_rail_fence(key: int, plain: str) -> str:\n",
    "    \"\"\"Encrypt rail fence\"\"\"\n",
    "\n",
    "def transpose_rail_fence_decrypt(key: int, cipher: str) -> str:\n",
    "    \"\"\"Decrypt rail fence\"\"\""
   ]
  },
  {
   "cell_type": "code",
   "execution_count": 189,
   "metadata": {},
   "outputs": [],
   "source": [
    "def transpose_route(key: int, plain: str) -> str:\n",
    "    \"\"\"Encrypt route\"\"\"\n",
    "\n",
    "def transpose_route_decrypt(key: int, cipher: str) -> str:\n",
    "    \"\"\"Decrypt route\"\"\""
   ]
  },
  {
   "cell_type": "code",
   "execution_count": 190,
   "metadata": {},
   "outputs": [],
   "source": [
    "from itertools import zip_longest\n",
    "from pprint import pprint\n",
    "\n",
    "def transpose_columnar(key: str, plain: str) -> str:\n",
    "    \"\"\"Encrypt columnar\"\"\"\n",
    "\n",
    "    # Hilangkan spasi dan karakter non-alphanumeric\n",
    "    s = \"\".join([c for c in plain if c.isalnum()])\n",
    "    \n",
    "    rows: list[list[str]] = []\n",
    "    l = 0\n",
    "    width = len(key)\n",
    "\n",
    "    while (l < len(s)):\n",
    "        row: list[str] = []\n",
    "        for c in s[l:l+width]:\n",
    "            row.append(c)\n",
    "        rows.append(row)\n",
    "        l += width\n",
    "\n",
    "    print(\"Tabel untuk enkripsi\")\n",
    "    pprint(rows)\n",
    "    print()\n",
    "\n",
    "    columns = list(zip_longest(*rows, fillvalue=\"\"))\n",
    "    \n",
    "    kcs = [(key[i], columns[i]) for i in range(len(key))]\n",
    "\n",
    "    kcs.sort(key=lambda kc: kc[0])\n",
    "\n",
    "    cipher = \"\"\n",
    "    for kc in kcs:\n",
    "        cipher += \"\".join(kc[1])\n",
    "    \n",
    "    return format_cipher(cipher)\n",
    "\n",
    "def transpose_columnar_decrypt(key, cipher):\n",
    "    \"\"\"Decrypt columnar\"\"\""
   ]
  },
  {
   "cell_type": "code",
   "execution_count": 191,
   "metadata": {},
   "outputs": [],
   "source": [
    "def transpose_double(key: str, plain: str) -> str:\n",
    "    \"\"\"Encrypt double\"\"\"\n",
    "\n",
    "def transpose_double_decrypt(key: str, cipher: str) -> str:\n",
    "    \"\"\"Decrypt double\"\"\""
   ]
  },
  {
   "cell_type": "code",
   "execution_count": 192,
   "metadata": {},
   "outputs": [],
   "source": [
    "def transpose_myszkowski(key: str, plain: str) -> str:\n",
    "    \"\"\"Encrypt myszkowski\"\"\"\n",
    "\n",
    "def transpose_myszkowski_decrypt(key: str, cipher: str) -> str:\n",
    "    \"\"\"Decrypt myszkowski\"\"\""
   ]
  },
  {
   "cell_type": "code",
   "execution_count": 193,
   "metadata": {},
   "outputs": [],
   "source": [
    "# Key angka\n",
    "key_no = 3\n",
    "# Key kata\n",
    "key_str = \"PENTING\"\n",
    "\n",
    "plain = \"TENTUKAN PRIORITAS ANDA SEBAB KITA TIDAK DAPAT MENGERJAKAN SEMUANYA X\""
   ]
  },
  {
   "cell_type": "code",
   "execution_count": 194,
   "metadata": {},
   "outputs": [
    {
     "name": "stdout",
     "output_type": "stream",
     "text": [
      "# Columnar Transposition\n",
      "Tabel untuk enkripsi\n",
      "[['T', 'E', 'N', 'T', 'U', 'K', 'A'],\n",
      " ['N', 'P', 'R', 'I', 'O', 'R', 'I'],\n",
      " ['T', 'A', 'S', 'A', 'N', 'D', 'A'],\n",
      " ['S', 'E', 'B', 'A', 'B', 'K', 'I'],\n",
      " ['T', 'A', 'T', 'I', 'D', 'A', 'K'],\n",
      " ['D', 'A', 'P', 'A', 'T', 'M', 'E'],\n",
      " ['N', 'G', 'E', 'R', 'J', 'A', 'K'],\n",
      " ['A', 'N', 'S', 'E', 'M', 'U', 'A'],\n",
      " ['N', 'Y', 'A', 'X']]\n",
      "\n",
      "Cipher: EPAE AAGN YAIA IKEK AUON BDTJ MNRS BTPE SAKR DKAM AUTN TSTD NANT IAAI AREX \n",
      "\n"
     ]
    }
   ],
   "source": [
    "print(\"# Columnar Transposition\")\n",
    "cipher = transpose_columnar(key_str, plain)\n",
    "print(f\"Cipher: {cipher} \\n\")\n",
    "transpose_columnar_decrypt(key_str, cipher)"
   ]
  }
 ],
 "metadata": {
  "kernelspec": {
   "display_name": "base",
   "language": "python",
   "name": "python3"
  },
  "language_info": {
   "codemirror_mode": {
    "name": "ipython",
    "version": 3
   },
   "file_extension": ".py",
   "mimetype": "text/x-python",
   "name": "python",
   "nbconvert_exporter": "python",
   "pygments_lexer": "ipython3",
   "version": "3.9.12"
  },
  "orig_nbformat": 4
 },
 "nbformat": 4,
 "nbformat_minor": 2
}
